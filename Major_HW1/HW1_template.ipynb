{
  "cells": [
    {
      "cell_type": "markdown",
      "metadata": {
        "id": "AaWOEIUIMac-"
      },
      "source": [
        "#HW1 - Data Exploration and Preparation"
      ]
    },
    {
      "cell_type": "code",
      "execution_count": 5,
      "metadata": {
        "id": "4fHDGDO95YGC"
      },
      "outputs": [],
      "source": [
        "import numpy as np\n",
        "import pandas as pd\n",
        "import matplotlib.pyplot as plt\n",
        "import seaborn as sns"
      ]
    },
    {
      "cell_type": "markdown",
      "metadata": {},
      "source": [
        "# Recommended formatting settings"
      ]
    },
    {
      "cell_type": "code",
      "execution_count": 6,
      "metadata": {},
      "outputs": [],
      "source": [
        "from matplotlib import pylab\n",
        "params = {'xtick.labelsize': 18,\n",
        "          'ytick.labelsize': 18,\n",
        "          'axes.titlesize' : 22,\n",
        "          'axes.labelsize' : 20,\n",
        "          'legend.fontsize': 18,\n",
        "          'legend.title_fontsize': 22,\n",
        "          'figure.titlesize': 24 }\n",
        "pylab.rcParams.update(params)\n"
      ]
    },
    {
      "cell_type": "markdown",
      "metadata": {
        "id": "tSrPNPidMY3l"
      },
      "source": [
        "## Loading the dataset"
      ]
    },
    {
      "cell_type": "code",
      "execution_count": 7,
      "metadata": {
        "id": "DfYF1LgMLcNe"
      },
      "outputs": [
        {
          "data": {
            "text/plain": [
              "'\\n#Google colab version\\n!rm *.csv\\n\\nfrom google.colab import files\\nprint(\"Please load the raw csv data\")\\nuploadedData = files.upload()\\nfilename = list(uploadedData)[0]\\n'"
            ]
          },
          "execution_count": 7,
          "metadata": {},
          "output_type": "execute_result"
        }
      ],
      "source": [
        "'''\n",
        "#Google colab version\n",
        "!rm *.csv\n",
        "\n",
        "from google.colab import files\n",
        "print(\"Please load the raw csv data\")\n",
        "uploadedData = files.upload()\n",
        "filename = list(uploadedData)[0]\n",
        "'''"
      ]
    },
    {
      "cell_type": "code",
      "execution_count": 8,
      "metadata": {},
      "outputs": [],
      "source": [
        "#Local machine version\n",
        "\n",
        "filename = \"virus_data.csv\"\n"
      ]
    },
    {
      "cell_type": "code",
      "execution_count": 9,
      "metadata": {
        "id": "sVCPiqj_L8ch"
      },
      "outputs": [],
      "source": [
        "dataset = pd.read_csv(filename)"
      ]
    },
    {
      "cell_type": "code",
      "execution_count": 10,
      "metadata": {
        "id": "bVmBUgUWMH0I"
      },
      "outputs": [
        {
          "data": {
            "text/plain": [
              "(1250, 25)"
            ]
          },
          "execution_count": 10,
          "metadata": {},
          "output_type": "execute_result"
        }
      ],
      "source": [
        "dataset.shape"
      ]
    },
    {
      "cell_type": "markdown",
      "metadata": {},
      "source": [
        "Q2 - print the value_counts of converstaions_per_day"
      ]
    },
    {
      "cell_type": "code",
      "execution_count": 11,
      "metadata": {},
      "outputs": [
        {
          "data": {
            "text/plain": [
              "conversations_per_day\n",
              "3     218\n",
              "2     204\n",
              "5     179\n",
              "4     168\n",
              "1     108\n",
              "6     107\n",
              "7      94\n",
              "8      54\n",
              "9      42\n",
              "10     29\n",
              "11     16\n",
              "13      8\n",
              "12      7\n",
              "14      6\n",
              "16      5\n",
              "15      3\n",
              "17      1\n",
              "29      1\n",
              "Name: count, dtype: int64"
            ]
          },
          "execution_count": 11,
          "metadata": {},
          "output_type": "execute_result"
        }
      ],
      "source": [
        "dataset.conversations_per_day.value_counts()\n"
      ]
    },
    {
      "cell_type": "markdown",
      "metadata": {},
      "source": [
        "(Q4)\tSplit the data randomly into a training set (80% of the data) and a test set (20% of the data)"
      ]
    },
    {
      "cell_type": "code",
      "execution_count": 12,
      "metadata": {},
      "outputs": [],
      "source": [
        "from sklearn.model_selection import train_test_split\n",
        "sum_of_last_2_digits_IDS=67\n",
        "train_set , test_set = train_test_split(dataset, test_size=0.2, random_state=sum_of_last_2_digits_IDS)"
      ]
    },
    {
      "cell_type": "markdown",
      "metadata": {},
      "source": [
        "(Q5)\tFor both the training set and test set, report which fields have missing values and how many missing values there are. You can use Panda's function isnull()."
      ]
    },
    {
      "cell_type": "code",
      "execution_count": 13,
      "metadata": {},
      "outputs": [
        {
          "data": {
            "text/plain": [
              "patient_id                0\n",
              "age                       0\n",
              "sex                       0\n",
              "weight                    0\n",
              "blood_type                0\n",
              "current_location          0\n",
              "num_of_siblings           0\n",
              "happiness_score           0\n",
              "household_income         85\n",
              "conversations_per_day     0\n",
              "sugar_levels              0\n",
              "sport_activity            0\n",
              "pcr_date                  0\n",
              "PCR_01                    0\n",
              "PCR_02                    0\n",
              "PCR_03                    0\n",
              "PCR_04                    0\n",
              "PCR_05                    0\n",
              "PCR_06                    0\n",
              "PCR_07                    0\n",
              "PCR_08                    0\n",
              "PCR_09                    0\n",
              "PCR_10                    0\n",
              "spread                    0\n",
              "risk                      0\n",
              "dtype: int64"
            ]
          },
          "execution_count": 13,
          "metadata": {},
          "output_type": "execute_result"
        }
      ],
      "source": [
        "pd.isnull(train_set).sum()"
      ]
    },
    {
      "cell_type": "code",
      "execution_count": 14,
      "metadata": {},
      "outputs": [
        {
          "data": {
            "text/plain": [
              "patient_id                0\n",
              "age                       0\n",
              "sex                       0\n",
              "weight                    0\n",
              "blood_type                0\n",
              "current_location          0\n",
              "num_of_siblings           0\n",
              "happiness_score           0\n",
              "household_income         24\n",
              "conversations_per_day     0\n",
              "sugar_levels              0\n",
              "sport_activity            0\n",
              "pcr_date                  0\n",
              "PCR_01                    0\n",
              "PCR_02                    0\n",
              "PCR_03                    0\n",
              "PCR_04                    0\n",
              "PCR_05                    0\n",
              "PCR_06                    0\n",
              "PCR_07                    0\n",
              "PCR_08                    0\n",
              "PCR_09                    0\n",
              "PCR_10                    0\n",
              "spread                    0\n",
              "risk                      0\n",
              "dtype: int64"
            ]
          },
          "execution_count": 14,
          "metadata": {},
          "output_type": "execute_result"
        }
      ],
      "source": [
        "pd.isnull(test_set).sum()"
      ]
    },
    {
      "cell_type": "code",
      "execution_count": 23,
      "metadata": {},
      "outputs": [
        {
          "data": {
            "text/html": [
              "<div>\n",
              "<style scoped>\n",
              "    .dataframe tbody tr th:only-of-type {\n",
              "        vertical-align: middle;\n",
              "    }\n",
              "\n",
              "    .dataframe tbody tr th {\n",
              "        vertical-align: top;\n",
              "    }\n",
              "\n",
              "    .dataframe thead th {\n",
              "        text-align: right;\n",
              "    }\n",
              "</style>\n",
              "<table border=\"1\" class=\"dataframe\">\n",
              "  <thead>\n",
              "    <tr style=\"text-align: right;\">\n",
              "      <th></th>\n",
              "      <th>patient_id</th>\n",
              "      <th>household_income</th>\n",
              "    </tr>\n",
              "  </thead>\n",
              "  <tbody>\n",
              "    <tr>\n",
              "      <th>0</th>\n",
              "      <td>733</td>\n",
              "      <td>0.7</td>\n",
              "    </tr>\n",
              "    <tr>\n",
              "      <th>1</th>\n",
              "      <td>382</td>\n",
              "      <td>NaN</td>\n",
              "    </tr>\n",
              "    <tr>\n",
              "      <th>2</th>\n",
              "      <td>1164</td>\n",
              "      <td>1.5</td>\n",
              "    </tr>\n",
              "    <tr>\n",
              "      <th>3</th>\n",
              "      <td>897</td>\n",
              "      <td>0.5</td>\n",
              "    </tr>\n",
              "    <tr>\n",
              "      <th>4</th>\n",
              "      <td>1187</td>\n",
              "      <td>0.2</td>\n",
              "    </tr>\n",
              "    <tr>\n",
              "      <th>...</th>\n",
              "      <td>...</td>\n",
              "      <td>...</td>\n",
              "    </tr>\n",
              "    <tr>\n",
              "      <th>1245</th>\n",
              "      <td>607</td>\n",
              "      <td>0.4</td>\n",
              "    </tr>\n",
              "    <tr>\n",
              "      <th>1246</th>\n",
              "      <td>16</td>\n",
              "      <td>0.9</td>\n",
              "    </tr>\n",
              "    <tr>\n",
              "      <th>1247</th>\n",
              "      <td>776</td>\n",
              "      <td>1.2</td>\n",
              "    </tr>\n",
              "    <tr>\n",
              "      <th>1248</th>\n",
              "      <td>75</td>\n",
              "      <td>0.0</td>\n",
              "    </tr>\n",
              "    <tr>\n",
              "      <th>1249</th>\n",
              "      <td>1021</td>\n",
              "      <td>2.9</td>\n",
              "    </tr>\n",
              "  </tbody>\n",
              "</table>\n",
              "<p>1250 rows × 2 columns</p>\n",
              "</div>"
            ],
            "text/plain": [
              "      patient_id  household_income\n",
              "0            733               0.7\n",
              "1            382               NaN\n",
              "2           1164               1.5\n",
              "3            897               0.5\n",
              "4           1187               0.2\n",
              "...          ...               ...\n",
              "1245         607               0.4\n",
              "1246          16               0.9\n",
              "1247         776               1.2\n",
              "1248          75               0.0\n",
              "1249        1021               2.9\n",
              "\n",
              "[1250 rows x 2 columns]"
            ]
          },
          "execution_count": 23,
          "metadata": {},
          "output_type": "execute_result"
        }
      ],
      "source": []
    },
    {
      "cell_type": "markdown",
      "metadata": {},
      "source": [
        "Q6 (Q6)\tPlot a histogram (see Tutorial 01) for each field where you found missing values in (Q5). Add these plots to your report. Answer: Can you recognize outliers?\n",
        "Reminder: Create plots using only the training set.\n"
      ]
    },
    {
      "cell_type": "code",
      "execution_count": 24,
      "metadata": {},
      "outputs": [
        {
          "data": {
            "image/png": "[encoded data removed]",
            "text/plain": [
              "<Figure size 1000x600 with 1 Axes>"
            ]
          },
          "metadata": {},
          "output_type": "display_data"
        }
      ],
      "source": [
        "plt.figure(figsize=(10, 6))\n",
        "plt.hist(train_set['household_income'].dropna(), bins=30, edgecolor='k', alpha=0.7)\n",
        "plt.title('Distribution of Household Income')\n",
        "plt.xlabel('Household Income')\n",
        "plt.ylabel('Frequency')\n",
        "plt.grid(True)\n",
        "plt.show()"
      ]
    },
    {
      "cell_type": "markdown",
      "metadata": {},
      "source": [
        "(Q7)\tFor each field where you found missing values, calculate the median and the mean in the training set, and report it. \n",
        "If there is a significant difference between the mean and median values, explain the reason. Which filling method do you prefer to use in our case, and why?\n"
      ]
    },
    {
      "cell_type": "code",
      "execution_count": 28,
      "metadata": {},
      "outputs": [
        {
          "name": "stdout",
          "output_type": "stream",
          "text": [
            "the mean of the household income is:  3.209617486338798  and the median is:  0.7\n"
          ]
        }
      ],
      "source": [
        "print (\"the mean of the household income is: \", train_set['household_income'].mean(),\" and the median is: \", train_set['household_income'].median())"
      ]
    },
    {
      "cell_type": "markdown",
      "metadata": {
        "id": "_Mgm01NpMXJU"
      },
      "source": [
        "# How to download from Colab?"
      ]
    },
    {
      "cell_type": "code",
      "execution_count": 16,
      "metadata": {
        "id": "pT3gmNOXjtE9"
      },
      "outputs": [
        {
          "ename": "ModuleNotFoundError",
          "evalue": "No module named 'google'",
          "output_type": "error",
          "traceback": [
            "\u001b[1;31m---------------------------------------------------------------------------\u001b[0m",
            "\u001b[1;31mModuleNotFoundError\u001b[0m                       Traceback (most recent call last)",
            "Cell \u001b[1;32mIn[16], line 1\u001b[0m\n\u001b[1;32m----> 1\u001b[0m \u001b[38;5;28;01mfrom\u001b[39;00m \u001b[38;5;21;01mgoogle\u001b[39;00m\u001b[38;5;21;01m.\u001b[39;00m\u001b[38;5;21;01mcolab\u001b[39;00m \u001b[38;5;28;01mimport\u001b[39;00m files\n\u001b[0;32m      2\u001b[0m outputPath \u001b[38;5;241m=\u001b[39m \u001b[38;5;124m\"\u001b[39m\u001b[38;5;124msaved_file.csv\u001b[39m\u001b[38;5;124m\"\u001b[39m\n\u001b[0;32m      3\u001b[0m dataset\u001b[38;5;241m.\u001b[39mto_csv(outputPath)\n",
            "\u001b[1;31mModuleNotFoundError\u001b[0m: No module named 'google'"
          ]
        }
      ],
      "source": [
        "from google.colab import files\n",
        "outputPath = \"saved_file.csv\"\n",
        "dataset.to_csv(outputPath)\n",
        "files.download(outputPath)"
      ]
    },
    {
      "cell_type": "code",
      "execution_count": null,
      "metadata": {
        "id": "fULq3pXduRov"
      },
      "outputs": [],
      "source": []
    }
  ],
  "metadata": {
    "colab": {
      "provenance": []
    },
    "kernelspec": {
      "display_name": "Python 3",
      "name": "python3"
    },
    "language_info": {
      "codemirror_mode": {
        "name": "ipython",
        "version": 3
      },
      "file_extension": ".py",
      "mimetype": "text/x-python",
      "name": "python",
      "nbconvert_exporter": "python",
      "pygments_lexer": "ipython3",
      "version": "3.11.9"
    }
  },
  "nbformat": 4,
  "nbformat_minor": 0
}
